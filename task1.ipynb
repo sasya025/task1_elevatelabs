{
  "nbformat": 4,
  "nbformat_minor": 0,
  "metadata": {
    "colab": {
      "provenance": [],
      "authorship_tag": "ABX9TyNazT+C5ykm54QJrYkLUnYh",
      "include_colab_link": true
    },
    "kernelspec": {
      "name": "python3",
      "display_name": "Python 3"
    },
    "language_info": {
      "name": "python"
    }
  },
  "cells": [
    {
      "cell_type": "markdown",
      "metadata": {
        "id": "view-in-github",
        "colab_type": "text"
      },
      "source": [
        "<a href=\"https://colab.research.google.com/github/sasya025/task1_elevatelabs/blob/main/task1.ipynb\" target=\"_parent\"><img src=\"https://colab.research.google.com/assets/colab-badge.svg\" alt=\"Open In Colab\"/></a>"
      ]
    },
    {
      "cell_type": "code",
      "execution_count": 1,
      "metadata": {
        "colab": {
          "base_uri": "https://localhost:8080/"
        },
        "id": "01GSjZJnTFq1",
        "outputId": "6ac5b7c8-8acf-449c-892d-c4f823a5798c"
      },
      "outputs": [
        {
          "output_type": "stream",
          "name": "stdout",
          "text": [
            "Missing values before cleaning:\n",
            " show_id            0\n",
            "type               0\n",
            "title              1\n",
            "director        2635\n",
            "cast             826\n",
            "country          831\n",
            "date_added        10\n",
            "release_year       0\n",
            "rating             4\n",
            "duration           4\n",
            "listed_in          0\n",
            "description        0\n",
            "dtype: int64\n",
            "\n",
            "Cleaned DataFrame info:\n",
            "<class 'pandas.core.frame.DataFrame'>\n",
            "Index: 8807 entries, 0 to 8806\n",
            "Data columns (total 12 columns):\n",
            " #   Column        Non-Null Count  Dtype         \n",
            "---  ------        --------------  -----         \n",
            " 0   show_id       8807 non-null   object        \n",
            " 1   type          8807 non-null   object        \n",
            " 2   title         8806 non-null   object        \n",
            " 3   director      6173 non-null   object        \n",
            " 4   cast          7982 non-null   object        \n",
            " 5   country       7976 non-null   object        \n",
            " 6   date_added    8709 non-null   datetime64[ns]\n",
            " 7   release_year  8807 non-null   Int64         \n",
            " 8   rating        8803 non-null   object        \n",
            " 9   duration      8803 non-null   object        \n",
            " 10  listed_in     8807 non-null   object        \n",
            " 11  description   8807 non-null   object        \n",
            "dtypes: Int64(1), datetime64[ns](1), object(10)\n",
            "memory usage: 903.1+ KB\n",
            "None\n",
            "\n",
            "Missing values after cleaning:\n",
            " show_id            0\n",
            "type               0\n",
            "title              1\n",
            "director        2634\n",
            "cast             825\n",
            "country          831\n",
            "date_added        98\n",
            "release_year       0\n",
            "rating             4\n",
            "duration           4\n",
            "listed_in          0\n",
            "description        0\n",
            "dtype: int64\n"
          ]
        },
        {
          "output_type": "stream",
          "name": "stderr",
          "text": [
            "<ipython-input-1-8d1b91c5276a>:15: SettingWithCopyWarning: \n",
            "A value is trying to be set on a copy of a slice from a DataFrame.\n",
            "Try using .loc[row_indexer,col_indexer] = value instead\n",
            "\n",
            "See the caveats in the documentation: https://pandas.pydata.org/pandas-docs/stable/user_guide/indexing.html#returning-a-view-versus-a-copy\n",
            "  df_cleaned['country'] = df_cleaned['country'].str.strip().str.lower()\n",
            "<ipython-input-1-8d1b91c5276a>:18: SettingWithCopyWarning: \n",
            "A value is trying to be set on a copy of a slice from a DataFrame.\n",
            "Try using .loc[row_indexer,col_indexer] = value instead\n",
            "\n",
            "See the caveats in the documentation: https://pandas.pydata.org/pandas-docs/stable/user_guide/indexing.html#returning-a-view-versus-a-copy\n",
            "  df_cleaned['date_added'] = pd.to_datetime(df_cleaned['date_added'], errors='coerce')\n",
            "<ipython-input-1-8d1b91c5276a>:24: SettingWithCopyWarning: \n",
            "A value is trying to be set on a copy of a slice from a DataFrame.\n",
            "Try using .loc[row_indexer,col_indexer] = value instead\n",
            "\n",
            "See the caveats in the documentation: https://pandas.pydata.org/pandas-docs/stable/user_guide/indexing.html#returning-a-view-versus-a-copy\n",
            "  df_cleaned['release_year'] = pd.to_numeric(df_cleaned['release_year'], errors='coerce').astype('Int64')\n"
          ]
        }
      ],
      "source": [
        "import pandas as pd\n",
        "\n",
        "# Load the dataset\n",
        "file_path = \"netflix_titles_modified.csv\"  # Update path if needed\n",
        "df = pd.read_csv(file_path)\n",
        "\n",
        "# 1. Identify and handle missing values\n",
        "missing_values = df.isnull().sum()\n",
        "print(\"Missing values before cleaning:\\n\", missing_values)\n",
        "\n",
        "# 2. Remove duplicate rows\n",
        "df_cleaned = df.drop_duplicates()\n",
        "\n",
        "# 3. Standardize text values (e.g., country names)\n",
        "df_cleaned['country'] = df_cleaned['country'].str.strip().str.lower()\n",
        "\n",
        "# 4. Convert date formats to a consistent type (e.g., dd-mm-yyyy)\n",
        "df_cleaned['date_added'] = pd.to_datetime(df_cleaned['date_added'], errors='coerce')\n",
        "\n",
        "# 5. Rename column headers to be clean and uniform\n",
        "df_cleaned.columns = df_cleaned.columns.str.strip().str.lower().str.replace(' ', '_')\n",
        "\n",
        "# 6. Check and fix data types\n",
        "df_cleaned['release_year'] = pd.to_numeric(df_cleaned['release_year'], errors='coerce').astype('Int64')\n",
        "\n",
        "# Display data info and missing values after cleaning\n",
        "print(\"\\nCleaned DataFrame info:\")\n",
        "print(df_cleaned.info())\n",
        "\n",
        "print(\"\\nMissing values after cleaning:\\n\", df_cleaned.isnull().sum())\n",
        "\n",
        "# Optionally: Save the cleaned DataFrame to a new CSV file\n",
        "# df_cleaned.to_csv(\"netflix_titles_cleaned.csv\", index=False)"
      ]
    }
  ]
}